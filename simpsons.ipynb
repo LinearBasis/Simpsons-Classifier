{
  "cells": [
    {
      "cell_type": "code",
      "execution_count": 1,
      "metadata": {
        "id": "aKIGr-_l9uSM"
      },
      "outputs": [],
      "source": [
        "import torch\n",
        "import numpy as np\n",
        "\n",
        "import pickle\n",
        "from skimage import io\n",
        "\n",
        "from tqdm import tqdm, tqdm_notebook\n",
        "from PIL import Image\n",
        "from pathlib import Path\n",
        "\n",
        "from torchvision import transforms\n",
        "from multiprocessing.pool import ThreadPool\n",
        "from sklearn.preprocessing import LabelEncoder\n",
        "from torch.utils.data import Dataset, DataLoader\n",
        "import torch.nn as nn\n",
        "\n",
        "from matplotlib import colors, pyplot as plt\n",
        "%matplotlib inline\n",
        "\n",
        "# в sklearn не все гладко, чтобы в colab удобно выводить картинки \n",
        "# мы будем игнорировать warnings\n",
        "import warnings\n",
        "warnings.filterwarnings(action='ignore', category=DeprecationWarning)\n"
      ]
    },
    {
      "cell_type": "code",
      "execution_count": 2,
      "metadata": {
        "colab": {
          "base_uri": "https://localhost:8080/"
        },
        "id": "qcAaEfy39uSN",
        "outputId": "00e77a18-fa2d-4663-df48-212217cc6228"
      },
      "outputs": [
        {
          "name": "stdout",
          "output_type": "stream",
          "text": [
            "CUDA is available!  Training on GPU ...\n"
          ]
        }
      ],
      "source": [
        "train_on_gpu = torch.cuda.is_available()\n",
        "\n",
        "if not train_on_gpu:\n",
        "    print('CUDA is not available.  Training on CPU ...')\n",
        "else:\n",
        "    print('CUDA is available!  Training on GPU ...')"
      ]
    },
    {
      "cell_type": "code",
      "execution_count": 3,
      "metadata": {
        "id": "4MSKCJMn9uSO"
      },
      "outputs": [],
      "source": [
        "# разные режимы датасета \n",
        "DATA_MODES = ['train', 'val', 'test']\n",
        "# все изображения будут масштабированы к размеру 224x224 px\n",
        "RESCALE_SIZE = 224\n",
        "# работаем на видеокарте\n",
        "DEVICE = torch.device(\"cuda\")"
      ]
    },
    {
      "cell_type": "code",
      "execution_count": 4,
      "metadata": {
        "colab": {
          "base_uri": "https://localhost:8080/"
        },
        "id": "PjFt3hH5-JlH",
        "outputId": "cde82a65-171a-49ff-de9e-517e1c6221e1"
      },
      "outputs": [
        {
          "name": "stdout",
          "output_type": "stream",
          "text": [
            "Mounted at /content/gdrive/\n"
          ]
        }
      ],
      "source": [
        "from google.colab import drive\n",
        "drive.mount('/content/gdrive/')\n",
        "\n"
      ]
    },
    {
      "cell_type": "code",
      "execution_count": 5,
      "metadata": {
        "id": "17JCxTd6-RHz"
      },
      "outputs": [],
      "source": [
        "!unzip -q /content/gdrive/MyDrive/journey-springfield.zip"
      ]
    },
    {
      "cell_type": "code",
      "execution_count": 6,
      "metadata": {
        "id": "7T9xQHA59uSO"
      },
      "outputs": [],
      "source": [
        "class SimpsonsDataset(Dataset):\n",
        "    \"\"\"\n",
        "    Датасет с картинками, который паралельно подгружает их из папок\n",
        "    производит скалирование и превращение в торчевые тензоры\n",
        "    \"\"\"\n",
        "    def __init__(self, files, mode):\n",
        "        super().__init__()\n",
        "        # список файлов для загрузки\n",
        "        self.files = sorted(files)\n",
        "        # режим работы\n",
        "        self.mode = mode\n",
        "\n",
        "        if self.mode not in DATA_MODES:\n",
        "            print(f\"{self.mode} is not correct; correct modes: {DATA_MODES}\")\n",
        "            raise NameError\n",
        "\n",
        "        self.len_ = len(self.files)\n",
        "     \n",
        "        self.label_encoder = LabelEncoder()\n",
        "\n",
        "        if self.mode != 'test':\n",
        "            self.labels = [path.parent.name for path in self.files]\n",
        "            self.label_encoder.fit(self.labels)\n",
        "\n",
        "            with open('label_encoder.pkl', 'wb') as le_dump_file:\n",
        "                  pickle.dump(self.label_encoder, le_dump_file)\n",
        "    \n",
        "        self.transform = transforms.Compose([\n",
        "            transforms.ToTensor(),\n",
        "            transforms.Normalize([0.485, 0.456, 0.406], [0.229, 0.224, 0.225]) \n",
        "        ])\n",
        "\n",
        "        self.train_transform = transforms.Compose([\n",
        "            transforms.ToTensor(),\n",
        "            transforms.RandomHorizontalFlip(),\n",
        "            transforms.RandomRotation((-30, 30)),\n",
        "            transforms.Normalize([0.485, 0.456, 0.406], [0.229, 0.224, 0.225])\n",
        "        ])\n",
        "\n",
        "    def __len__(self):\n",
        "        return self.len_\n",
        "\n",
        "    def load_sample(self, file):\n",
        "        image = Image.open(file)\n",
        "        image.load()\n",
        "        return image\n",
        "\n",
        "    def __getitem__(self, index):\n",
        "        # для преобразования изображений в тензоры PyTorch и нормализации входа\n",
        "        x = self.load_sample(self.files[index])\n",
        "        x = self._prepare_sample(x)\n",
        "        x = np.array(x / 255, dtype='float32')\n",
        "        if self.mode == 'test':\n",
        "            x = self.transform(x)\n",
        "            return x\n",
        "        elif self.mode == 'train':\n",
        "            x = self.train_transform(x)\n",
        "            label = self.labels[index]\n",
        "            label_id = self.label_encoder.transform([label])\n",
        "            y = label_id.item()\n",
        "            return x, y\n",
        "        else:\n",
        "            x = self.transform(x)\n",
        "            label = self.labels[index]\n",
        "            label_id = self.label_encoder.transform([label])\n",
        "            y = label_id.item()\n",
        "            return x, y\n",
        "        \n",
        "    def _prepare_sample(self, image):\n",
        "        image = image.resize((RESCALE_SIZE, RESCALE_SIZE))\n",
        "        return np.array(image)\n",
        "\n",
        "\n",
        "def imshow(inp, title=None, plt_ax=plt, default=False):\n",
        "    \"\"\"Imshow для тензоров\"\"\"\n",
        "    inp = inp.numpy().transpose((1, 2, 0))\n",
        "    mean = np.array([0.485, 0.456, 0.406])\n",
        "    std = np.array([0.229, 0.224, 0.225])\n",
        "    inp = std * inp + mean\n",
        "    inp = np.clip(inp, 0, 1)\n",
        "    plt_ax.imshow(inp)\n",
        "    if title is not None:\n",
        "        plt_ax.set_title(title)\n",
        "    plt_ax.grid(False)"
      ]
    },
    {
      "cell_type": "code",
      "execution_count": 7,
      "metadata": {
        "id": "Rz2SO2JM9uSO"
      },
      "outputs": [],
      "source": [
        "TRAIN_DIR = Path('/content/train/simpsons_dataset')\n",
        "TEST_DIR = Path('/content/testset/testset')\n",
        "\n",
        "train_val_files = sorted(list(TRAIN_DIR.rglob('*.jpg')))\n",
        "test_files = sorted(list(TEST_DIR.rglob('*.jpg')))"
      ]
    },
    {
      "cell_type": "code",
      "execution_count": 8,
      "metadata": {
        "id": "Ky8YawaF9uSP"
      },
      "outputs": [],
      "source": [
        "from sklearn.model_selection import train_test_split\n",
        "\n",
        "train_val_labels = [path.parent.name for path in train_val_files]\n",
        "train_files, val_files = train_test_split(train_val_files, test_size=0.25, \\\n",
        "                                          stratify=train_val_labels)"
      ]
    },
    {
      "cell_type": "code",
      "execution_count": 9,
      "metadata": {
        "id": "vqyD4Tpe9uSP"
      },
      "outputs": [],
      "source": [
        "val_dataset = SimpsonsDataset(val_files, mode='val')"
      ]
    },
    {
      "cell_type": "markdown",
      "metadata": {
        "id": "JWj5Iezd9uSP"
      },
      "source": [
        "## Model"
      ]
    },
    {
      "cell_type": "code",
      "execution_count": 10,
      "metadata": {
        "id": "8l3H3qu_9uSQ"
      },
      "outputs": [],
      "source": [
        "def fit_epoch(model, train_loader, criterion, optimizer):\n",
        "    running_loss = 0.0\n",
        "    running_corrects = 0\n",
        "    processed_data = 0\n",
        "  \n",
        "    for inputs, labels in train_loader:\n",
        "        inputs = inputs.to(DEVICE)\n",
        "        labels = labels.to(DEVICE)\n",
        "        optimizer.zero_grad()\n",
        "\n",
        "        outputs = model(inputs)\n",
        "        loss = criterion(outputs, labels)\n",
        "        loss.backward()\n",
        "        optimizer.step()\n",
        "        preds = torch.argmax(outputs, 1)\n",
        "        running_loss += loss.item() * inputs.size(0)\n",
        "        running_corrects += torch.sum(preds == labels.data)\n",
        "        processed_data += inputs.size(0)\n",
        "              \n",
        "    train_loss = running_loss / processed_data\n",
        "    train_acc = running_corrects.cpu().numpy() / processed_data\n",
        "    return train_loss, train_acc"
      ]
    },
    {
      "cell_type": "code",
      "execution_count": 11,
      "metadata": {
        "id": "D2k9SOug9uSR"
      },
      "outputs": [],
      "source": [
        "def eval_epoch(model, val_loader, criterion):\n",
        "    model.eval()\n",
        "    running_loss = 0.0\n",
        "    running_corrects = 0\n",
        "    processed_size = 0\n",
        "\n",
        "    for inputs, labels in val_loader:\n",
        "        inputs = inputs.to(DEVICE)\n",
        "        labels = labels.to(DEVICE)\n",
        "\n",
        "        with torch.set_grad_enabled(False):\n",
        "            outputs = model(inputs)\n",
        "            loss = criterion(outputs, labels)\n",
        "            preds = torch.argmax(outputs, 1)\n",
        "\n",
        "        running_loss += loss.item() * inputs.size(0)\n",
        "        running_corrects += torch.sum(preds == labels.data)\n",
        "        processed_size += inputs.size(0)\n",
        "    val_loss = running_loss / processed_size\n",
        "    val_acc = running_corrects.double() / processed_size\n",
        "    return val_loss, val_acc"
      ]
    },
    {
      "cell_type": "code",
      "execution_count": 12,
      "metadata": {
        "id": "LbHccsML9uSR"
      },
      "outputs": [],
      "source": [
        "def train(train_files, val_files, model, epochs, batch_size):\n",
        "    train_loader = DataLoader(train_dataset, batch_size=batch_size, shuffle=True)\n",
        "    val_loader = DataLoader(val_dataset, batch_size=batch_size, shuffle=False)\n",
        "\n",
        "    history = []\n",
        "    log_template = \"\\nEpoch {ep:03d} train_loss: {t_loss:0.4f} \\\n",
        "    val_loss {v_loss:0.4f} train_acc {t_acc:0.4f} val_acc {v_acc:0.4f}\"\n",
        "\n",
        "    with tqdm(desc=\"epoch\", total=epochs) as pbar_outer:\n",
        "        opt = torch.optim.AdamW(filter(lambda p: p.requires_grad, model.parameters()))\n",
        "        criterion = nn.CrossEntropyLoss()\n",
        "\n",
        "        for epoch in range(epochs):\n",
        "            train_loss, train_acc = fit_epoch(model, train_loader, criterion, opt)\n",
        "            print(\"loss\", train_loss)\n",
        "            \n",
        "            val_loss, val_acc = eval_epoch(model, val_loader, criterion)\n",
        "            history.append((train_loss, train_acc, val_loss, val_acc))\n",
        "            \n",
        "            pbar_outer.update(1)\n",
        "            tqdm.write(log_template.format(ep=epoch+1, t_loss=train_loss,\\\n",
        "                                           v_loss=val_loss, t_acc=train_acc, v_acc=val_acc))\n",
        "            \n",
        "    return history"
      ]
    },
    {
      "cell_type": "code",
      "execution_count": 13,
      "metadata": {
        "id": "tpTB20Q99uSR"
      },
      "outputs": [],
      "source": [
        "def predict(model, test_loader):\n",
        "    with torch.no_grad():\n",
        "        logits = []\n",
        "    \n",
        "        for inputs in test_loader:\n",
        "            inputs = inputs.to(DEVICE)\n",
        "            model.eval()\n",
        "            outputs = model(inputs).cpu()\n",
        "            logits.append(outputs)\n",
        "            \n",
        "    probs = nn.functional.softmax(torch.cat(logits), dim=-1).numpy()\n",
        "    return probs"
      ]
    },
    {
      "cell_type": "code",
      "execution_count": 13,
      "metadata": {
        "id": "KJR9AlGt8HAj"
      },
      "outputs": [],
      "source": []
    },
    {
      "cell_type": "code",
      "execution_count": 15,
      "metadata": {
        "colab": {
          "base_uri": "https://localhost:8080/",
          "height": 66,
          "referenced_widgets": [
            "4610e113df1f49b78f503419f4b32d0a",
            "142dd6704e2e4948a194a37ac47003d5",
            "450e5c6c81b24f75af70dd31e1acd6d7",
            "00e3c85e840f4c1985b5c1d7b84a22d3",
            "ac3b567f057f499dab043ef6fdabb71c",
            "843a99997e034485a55a92c85eaa4541",
            "13cc4d65e7ec4cd7a41df8568fdd9f02",
            "68b818ef5d384c9e8842b70f4c13bfe0",
            "11a391b9bc3f49cfb85286c24b75220f",
            "34d3a27e62904864b432d65a0fdd817b",
            "f71e7a9e4437477e9e38b0e811ba10d3"
          ]
        },
        "id": "vT3zoJaG9uSR",
        "outputId": "9cd35d41-70c9-4fbb-9eb4-869bc58c3b03"
      },
      "outputs": [
        {
          "name": "stderr",
          "output_type": "stream",
          "text": [
            "Downloading: \"https://download.pytorch.org/models/efficientnet_b2_rwightman-bcdf34b7.pth\" to /root/.cache/torch/hub/checkpoints/efficientnet_b2_rwightman-bcdf34b7.pth\n"
          ]
        },
        {
          "data": {
            "application/vnd.jupyter.widget-view+json": {
              "model_id": "4610e113df1f49b78f503419f4b32d0a",
              "version_major": 2,
              "version_minor": 0
            },
            "text/plain": [
              "  0%|          | 0.00/35.2M [00:00<?, ?B/s]"
            ]
          },
          "metadata": {},
          "output_type": "display_data"
        }
      ],
      "source": [
        "from torchvision.models import efficientnet_b2, EfficientNet_B2_Weights\n",
        "\n",
        "n_classes = len(np.unique(train_val_labels))\n",
        "# model = torch.hub.load('pytorch/vision:v0.10.0', 'densenet121', pretrained=True).to(DEVICE) # SimpleCnn(n_classes).to(DEVICE)\n",
        "model = efficientnet_b2(weights=EfficientNet_B2_Weights.IMAGENET1K_V1).to(DEVICE)\n",
        "\n",
        "\n",
        "# print(\"we will classify :{}\".format(n_classes))\n",
        "# print(model.fc)\n",
        "model.classifier[1] = nn.Linear(in_features=1408, out_features=n_classes).to(DEVICE)\n"
      ]
    },
    {
      "cell_type": "code",
      "execution_count": 16,
      "metadata": {
        "colab": {
          "base_uri": "https://localhost:8080/"
        },
        "id": "bBszKelUOVQx",
        "outputId": "34c12e7c-e278-4ed0-abaa-51e20274a012"
      },
      "outputs": [
        {
          "data": {
            "text/plain": [
              "EfficientNet(\n",
              "  (features): Sequential(\n",
              "    (0): Conv2dNormActivation(\n",
              "      (0): Conv2d(3, 32, kernel_size=(3, 3), stride=(2, 2), padding=(1, 1), bias=False)\n",
              "      (1): BatchNorm2d(32, eps=1e-05, momentum=0.1, affine=True, track_running_stats=True)\n",
              "      (2): SiLU(inplace=True)\n",
              "    )\n",
              "    (1): Sequential(\n",
              "      (0): MBConv(\n",
              "        (block): Sequential(\n",
              "          (0): Conv2dNormActivation(\n",
              "            (0): Conv2d(32, 32, kernel_size=(3, 3), stride=(1, 1), padding=(1, 1), groups=32, bias=False)\n",
              "            (1): BatchNorm2d(32, eps=1e-05, momentum=0.1, affine=True, track_running_stats=True)\n",
              "            (2): SiLU(inplace=True)\n",
              "          )\n",
              "          (1): SqueezeExcitation(\n",
              "            (avgpool): AdaptiveAvgPool2d(output_size=1)\n",
              "            (fc1): Conv2d(32, 8, kernel_size=(1, 1), stride=(1, 1))\n",
              "            (fc2): Conv2d(8, 32, kernel_size=(1, 1), stride=(1, 1))\n",
              "            (activation): SiLU(inplace=True)\n",
              "            (scale_activation): Sigmoid()\n",
              "          )\n",
              "          (2): Conv2dNormActivation(\n",
              "            (0): Conv2d(32, 16, kernel_size=(1, 1), stride=(1, 1), bias=False)\n",
              "            (1): BatchNorm2d(16, eps=1e-05, momentum=0.1, affine=True, track_running_stats=True)\n",
              "          )\n",
              "        )\n",
              "        (stochastic_depth): StochasticDepth(p=0.0, mode=row)\n",
              "      )\n",
              "      (1): MBConv(\n",
              "        (block): Sequential(\n",
              "          (0): Conv2dNormActivation(\n",
              "            (0): Conv2d(16, 16, kernel_size=(3, 3), stride=(1, 1), padding=(1, 1), groups=16, bias=False)\n",
              "            (1): BatchNorm2d(16, eps=1e-05, momentum=0.1, affine=True, track_running_stats=True)\n",
              "            (2): SiLU(inplace=True)\n",
              "          )\n",
              "          (1): SqueezeExcitation(\n",
              "            (avgpool): AdaptiveAvgPool2d(output_size=1)\n",
              "            (fc1): Conv2d(16, 4, kernel_size=(1, 1), stride=(1, 1))\n",
              "            (fc2): Conv2d(4, 16, kernel_size=(1, 1), stride=(1, 1))\n",
              "            (activation): SiLU(inplace=True)\n",
              "            (scale_activation): Sigmoid()\n",
              "          )\n",
              "          (2): Conv2dNormActivation(\n",
              "            (0): Conv2d(16, 16, kernel_size=(1, 1), stride=(1, 1), bias=False)\n",
              "            (1): BatchNorm2d(16, eps=1e-05, momentum=0.1, affine=True, track_running_stats=True)\n",
              "          )\n",
              "        )\n",
              "        (stochastic_depth): StochasticDepth(p=0.008695652173913044, mode=row)\n",
              "      )\n",
              "    )\n",
              "    (2): Sequential(\n",
              "      (0): MBConv(\n",
              "        (block): Sequential(\n",
              "          (0): Conv2dNormActivation(\n",
              "            (0): Conv2d(16, 96, kernel_size=(1, 1), stride=(1, 1), bias=False)\n",
              "            (1): BatchNorm2d(96, eps=1e-05, momentum=0.1, affine=True, track_running_stats=True)\n",
              "            (2): SiLU(inplace=True)\n",
              "          )\n",
              "          (1): Conv2dNormActivation(\n",
              "            (0): Conv2d(96, 96, kernel_size=(3, 3), stride=(2, 2), padding=(1, 1), groups=96, bias=False)\n",
              "            (1): BatchNorm2d(96, eps=1e-05, momentum=0.1, affine=True, track_running_stats=True)\n",
              "            (2): SiLU(inplace=True)\n",
              "          )\n",
              "          (2): SqueezeExcitation(\n",
              "            (avgpool): AdaptiveAvgPool2d(output_size=1)\n",
              "            (fc1): Conv2d(96, 4, kernel_size=(1, 1), stride=(1, 1))\n",
              "            (fc2): Conv2d(4, 96, kernel_size=(1, 1), stride=(1, 1))\n",
              "            (activation): SiLU(inplace=True)\n",
              "            (scale_activation): Sigmoid()\n",
              "          )\n",
              "          (3): Conv2dNormActivation(\n",
              "            (0): Conv2d(96, 24, kernel_size=(1, 1), stride=(1, 1), bias=False)\n",
              "            (1): BatchNorm2d(24, eps=1e-05, momentum=0.1, affine=True, track_running_stats=True)\n",
              "          )\n",
              "        )\n",
              "        (stochastic_depth): StochasticDepth(p=0.017391304347826087, mode=row)\n",
              "      )\n",
              "      (1): MBConv(\n",
              "        (block): Sequential(\n",
              "          (0): Conv2dNormActivation(\n",
              "            (0): Conv2d(24, 144, kernel_size=(1, 1), stride=(1, 1), bias=False)\n",
              "            (1): BatchNorm2d(144, eps=1e-05, momentum=0.1, affine=True, track_running_stats=True)\n",
              "            (2): SiLU(inplace=True)\n",
              "          )\n",
              "          (1): Conv2dNormActivation(\n",
              "            (0): Conv2d(144, 144, kernel_size=(3, 3), stride=(1, 1), padding=(1, 1), groups=144, bias=False)\n",
              "            (1): BatchNorm2d(144, eps=1e-05, momentum=0.1, affine=True, track_running_stats=True)\n",
              "            (2): SiLU(inplace=True)\n",
              "          )\n",
              "          (2): SqueezeExcitation(\n",
              "            (avgpool): AdaptiveAvgPool2d(output_size=1)\n",
              "            (fc1): Conv2d(144, 6, kernel_size=(1, 1), stride=(1, 1))\n",
              "            (fc2): Conv2d(6, 144, kernel_size=(1, 1), stride=(1, 1))\n",
              "            (activation): SiLU(inplace=True)\n",
              "            (scale_activation): Sigmoid()\n",
              "          )\n",
              "          (3): Conv2dNormActivation(\n",
              "            (0): Conv2d(144, 24, kernel_size=(1, 1), stride=(1, 1), bias=False)\n",
              "            (1): BatchNorm2d(24, eps=1e-05, momentum=0.1, affine=True, track_running_stats=True)\n",
              "          )\n",
              "        )\n",
              "        (stochastic_depth): StochasticDepth(p=0.026086956521739136, mode=row)\n",
              "      )\n",
              "      (2): MBConv(\n",
              "        (block): Sequential(\n",
              "          (0): Conv2dNormActivation(\n",
              "            (0): Conv2d(24, 144, kernel_size=(1, 1), stride=(1, 1), bias=False)\n",
              "            (1): BatchNorm2d(144, eps=1e-05, momentum=0.1, affine=True, track_running_stats=True)\n",
              "            (2): SiLU(inplace=True)\n",
              "          )\n",
              "          (1): Conv2dNormActivation(\n",
              "            (0): Conv2d(144, 144, kernel_size=(3, 3), stride=(1, 1), padding=(1, 1), groups=144, bias=False)\n",
              "            (1): BatchNorm2d(144, eps=1e-05, momentum=0.1, affine=True, track_running_stats=True)\n",
              "            (2): SiLU(inplace=True)\n",
              "          )\n",
              "          (2): SqueezeExcitation(\n",
              "            (avgpool): AdaptiveAvgPool2d(output_size=1)\n",
              "            (fc1): Conv2d(144, 6, kernel_size=(1, 1), stride=(1, 1))\n",
              "            (fc2): Conv2d(6, 144, kernel_size=(1, 1), stride=(1, 1))\n",
              "            (activation): SiLU(inplace=True)\n",
              "            (scale_activation): Sigmoid()\n",
              "          )\n",
              "          (3): Conv2dNormActivation(\n",
              "            (0): Conv2d(144, 24, kernel_size=(1, 1), stride=(1, 1), bias=False)\n",
              "            (1): BatchNorm2d(24, eps=1e-05, momentum=0.1, affine=True, track_running_stats=True)\n",
              "          )\n",
              "        )\n",
              "        (stochastic_depth): StochasticDepth(p=0.034782608695652174, mode=row)\n",
              "      )\n",
              "    )\n",
              "    (3): Sequential(\n",
              "      (0): MBConv(\n",
              "        (block): Sequential(\n",
              "          (0): Conv2dNormActivation(\n",
              "            (0): Conv2d(24, 144, kernel_size=(1, 1), stride=(1, 1), bias=False)\n",
              "            (1): BatchNorm2d(144, eps=1e-05, momentum=0.1, affine=True, track_running_stats=True)\n",
              "            (2): SiLU(inplace=True)\n",
              "          )\n",
              "          (1): Conv2dNormActivation(\n",
              "            (0): Conv2d(144, 144, kernel_size=(5, 5), stride=(2, 2), padding=(2, 2), groups=144, bias=False)\n",
              "            (1): BatchNorm2d(144, eps=1e-05, momentum=0.1, affine=True, track_running_stats=True)\n",
              "            (2): SiLU(inplace=True)\n",
              "          )\n",
              "          (2): SqueezeExcitation(\n",
              "            (avgpool): AdaptiveAvgPool2d(output_size=1)\n",
              "            (fc1): Conv2d(144, 6, kernel_size=(1, 1), stride=(1, 1))\n",
              "            (fc2): Conv2d(6, 144, kernel_size=(1, 1), stride=(1, 1))\n",
              "            (activation): SiLU(inplace=True)\n",
              "            (scale_activation): Sigmoid()\n",
              "          )\n",
              "          (3): Conv2dNormActivation(\n",
              "            (0): Conv2d(144, 48, kernel_size=(1, 1), stride=(1, 1), bias=False)\n",
              "            (1): BatchNorm2d(48, eps=1e-05, momentum=0.1, affine=True, track_running_stats=True)\n",
              "          )\n",
              "        )\n",
              "        (stochastic_depth): StochasticDepth(p=0.043478260869565216, mode=row)\n",
              "      )\n",
              "      (1): MBConv(\n",
              "        (block): Sequential(\n",
              "          (0): Conv2dNormActivation(\n",
              "            (0): Conv2d(48, 288, kernel_size=(1, 1), stride=(1, 1), bias=False)\n",
              "            (1): BatchNorm2d(288, eps=1e-05, momentum=0.1, affine=True, track_running_stats=True)\n",
              "            (2): SiLU(inplace=True)\n",
              "          )\n",
              "          (1): Conv2dNormActivation(\n",
              "            (0): Conv2d(288, 288, kernel_size=(5, 5), stride=(1, 1), padding=(2, 2), groups=288, bias=False)\n",
              "            (1): BatchNorm2d(288, eps=1e-05, momentum=0.1, affine=True, track_running_stats=True)\n",
              "            (2): SiLU(inplace=True)\n",
              "          )\n",
              "          (2): SqueezeExcitation(\n",
              "            (avgpool): AdaptiveAvgPool2d(output_size=1)\n",
              "            (fc1): Conv2d(288, 12, kernel_size=(1, 1), stride=(1, 1))\n",
              "            (fc2): Conv2d(12, 288, kernel_size=(1, 1), stride=(1, 1))\n",
              "            (activation): SiLU(inplace=True)\n",
              "            (scale_activation): Sigmoid()\n",
              "          )\n",
              "          (3): Conv2dNormActivation(\n",
              "            (0): Conv2d(288, 48, kernel_size=(1, 1), stride=(1, 1), bias=False)\n",
              "            (1): BatchNorm2d(48, eps=1e-05, momentum=0.1, affine=True, track_running_stats=True)\n",
              "          )\n",
              "        )\n",
              "        (stochastic_depth): StochasticDepth(p=0.05217391304347827, mode=row)\n",
              "      )\n",
              "      (2): MBConv(\n",
              "        (block): Sequential(\n",
              "          (0): Conv2dNormActivation(\n",
              "            (0): Conv2d(48, 288, kernel_size=(1, 1), stride=(1, 1), bias=False)\n",
              "            (1): BatchNorm2d(288, eps=1e-05, momentum=0.1, affine=True, track_running_stats=True)\n",
              "            (2): SiLU(inplace=True)\n",
              "          )\n",
              "          (1): Conv2dNormActivation(\n",
              "            (0): Conv2d(288, 288, kernel_size=(5, 5), stride=(1, 1), padding=(2, 2), groups=288, bias=False)\n",
              "            (1): BatchNorm2d(288, eps=1e-05, momentum=0.1, affine=True, track_running_stats=True)\n",
              "            (2): SiLU(inplace=True)\n",
              "          )\n",
              "          (2): SqueezeExcitation(\n",
              "            (avgpool): AdaptiveAvgPool2d(output_size=1)\n",
              "            (fc1): Conv2d(288, 12, kernel_size=(1, 1), stride=(1, 1))\n",
              "            (fc2): Conv2d(12, 288, kernel_size=(1, 1), stride=(1, 1))\n",
              "            (activation): SiLU(inplace=True)\n",
              "            (scale_activation): Sigmoid()\n",
              "          )\n",
              "          (3): Conv2dNormActivation(\n",
              "            (0): Conv2d(288, 48, kernel_size=(1, 1), stride=(1, 1), bias=False)\n",
              "            (1): BatchNorm2d(48, eps=1e-05, momentum=0.1, affine=True, track_running_stats=True)\n",
              "          )\n",
              "        )\n",
              "        (stochastic_depth): StochasticDepth(p=0.06086956521739131, mode=row)\n",
              "      )\n",
              "    )\n",
              "    (4): Sequential(\n",
              "      (0): MBConv(\n",
              "        (block): Sequential(\n",
              "          (0): Conv2dNormActivation(\n",
              "            (0): Conv2d(48, 288, kernel_size=(1, 1), stride=(1, 1), bias=False)\n",
              "            (1): BatchNorm2d(288, eps=1e-05, momentum=0.1, affine=True, track_running_stats=True)\n",
              "            (2): SiLU(inplace=True)\n",
              "          )\n",
              "          (1): Conv2dNormActivation(\n",
              "            (0): Conv2d(288, 288, kernel_size=(3, 3), stride=(2, 2), padding=(1, 1), groups=288, bias=False)\n",
              "            (1): BatchNorm2d(288, eps=1e-05, momentum=0.1, affine=True, track_running_stats=True)\n",
              "            (2): SiLU(inplace=True)\n",
              "          )\n",
              "          (2): SqueezeExcitation(\n",
              "            (avgpool): AdaptiveAvgPool2d(output_size=1)\n",
              "            (fc1): Conv2d(288, 12, kernel_size=(1, 1), stride=(1, 1))\n",
              "            (fc2): Conv2d(12, 288, kernel_size=(1, 1), stride=(1, 1))\n",
              "            (activation): SiLU(inplace=True)\n",
              "            (scale_activation): Sigmoid()\n",
              "          )\n",
              "          (3): Conv2dNormActivation(\n",
              "            (0): Conv2d(288, 88, kernel_size=(1, 1), stride=(1, 1), bias=False)\n",
              "            (1): BatchNorm2d(88, eps=1e-05, momentum=0.1, affine=True, track_running_stats=True)\n",
              "          )\n",
              "        )\n",
              "        (stochastic_depth): StochasticDepth(p=0.06956521739130435, mode=row)\n",
              "      )\n",
              "      (1): MBConv(\n",
              "        (block): Sequential(\n",
              "          (0): Conv2dNormActivation(\n",
              "            (0): Conv2d(88, 528, kernel_size=(1, 1), stride=(1, 1), bias=False)\n",
              "            (1): BatchNorm2d(528, eps=1e-05, momentum=0.1, affine=True, track_running_stats=True)\n",
              "            (2): SiLU(inplace=True)\n",
              "          )\n",
              "          (1): Conv2dNormActivation(\n",
              "            (0): Conv2d(528, 528, kernel_size=(3, 3), stride=(1, 1), padding=(1, 1), groups=528, bias=False)\n",
              "            (1): BatchNorm2d(528, eps=1e-05, momentum=0.1, affine=True, track_running_stats=True)\n",
              "            (2): SiLU(inplace=True)\n",
              "          )\n",
              "          (2): SqueezeExcitation(\n",
              "            (avgpool): AdaptiveAvgPool2d(output_size=1)\n",
              "            (fc1): Conv2d(528, 22, kernel_size=(1, 1), stride=(1, 1))\n",
              "            (fc2): Conv2d(22, 528, kernel_size=(1, 1), stride=(1, 1))\n",
              "            (activation): SiLU(inplace=True)\n",
              "            (scale_activation): Sigmoid()\n",
              "          )\n",
              "          (3): Conv2dNormActivation(\n",
              "            (0): Conv2d(528, 88, kernel_size=(1, 1), stride=(1, 1), bias=False)\n",
              "            (1): BatchNorm2d(88, eps=1e-05, momentum=0.1, affine=True, track_running_stats=True)\n",
              "          )\n",
              "        )\n",
              "        (stochastic_depth): StochasticDepth(p=0.0782608695652174, mode=row)\n",
              "      )\n",
              "      (2): MBConv(\n",
              "        (block): Sequential(\n",
              "          (0): Conv2dNormActivation(\n",
              "            (0): Conv2d(88, 528, kernel_size=(1, 1), stride=(1, 1), bias=False)\n",
              "            (1): BatchNorm2d(528, eps=1e-05, momentum=0.1, affine=True, track_running_stats=True)\n",
              "            (2): SiLU(inplace=True)\n",
              "          )\n",
              "          (1): Conv2dNormActivation(\n",
              "            (0): Conv2d(528, 528, kernel_size=(3, 3), stride=(1, 1), padding=(1, 1), groups=528, bias=False)\n",
              "            (1): BatchNorm2d(528, eps=1e-05, momentum=0.1, affine=True, track_running_stats=True)\n",
              "            (2): SiLU(inplace=True)\n",
              "          )\n",
              "          (2): SqueezeExcitation(\n",
              "            (avgpool): AdaptiveAvgPool2d(output_size=1)\n",
              "            (fc1): Conv2d(528, 22, kernel_size=(1, 1), stride=(1, 1))\n",
              "            (fc2): Conv2d(22, 528, kernel_size=(1, 1), stride=(1, 1))\n",
              "            (activation): SiLU(inplace=True)\n",
              "            (scale_activation): Sigmoid()\n",
              "          )\n",
              "          (3): Conv2dNormActivation(\n",
              "            (0): Conv2d(528, 88, kernel_size=(1, 1), stride=(1, 1), bias=False)\n",
              "            (1): BatchNorm2d(88, eps=1e-05, momentum=0.1, affine=True, track_running_stats=True)\n",
              "          )\n",
              "        )\n",
              "        (stochastic_depth): StochasticDepth(p=0.08695652173913043, mode=row)\n",
              "      )\n",
              "      (3): MBConv(\n",
              "        (block): Sequential(\n",
              "          (0): Conv2dNormActivation(\n",
              "            (0): Conv2d(88, 528, kernel_size=(1, 1), stride=(1, 1), bias=False)\n",
              "            (1): BatchNorm2d(528, eps=1e-05, momentum=0.1, affine=True, track_running_stats=True)\n",
              "            (2): SiLU(inplace=True)\n",
              "          )\n",
              "          (1): Conv2dNormActivation(\n",
              "            (0): Conv2d(528, 528, kernel_size=(3, 3), stride=(1, 1), padding=(1, 1), groups=528, bias=False)\n",
              "            (1): BatchNorm2d(528, eps=1e-05, momentum=0.1, affine=True, track_running_stats=True)\n",
              "            (2): SiLU(inplace=True)\n",
              "          )\n",
              "          (2): SqueezeExcitation(\n",
              "            (avgpool): AdaptiveAvgPool2d(output_size=1)\n",
              "            (fc1): Conv2d(528, 22, kernel_size=(1, 1), stride=(1, 1))\n",
              "            (fc2): Conv2d(22, 528, kernel_size=(1, 1), stride=(1, 1))\n",
              "            (activation): SiLU(inplace=True)\n",
              "            (scale_activation): Sigmoid()\n",
              "          )\n",
              "          (3): Conv2dNormActivation(\n",
              "            (0): Conv2d(528, 88, kernel_size=(1, 1), stride=(1, 1), bias=False)\n",
              "            (1): BatchNorm2d(88, eps=1e-05, momentum=0.1, affine=True, track_running_stats=True)\n",
              "          )\n",
              "        )\n",
              "        (stochastic_depth): StochasticDepth(p=0.09565217391304348, mode=row)\n",
              "      )\n",
              "    )\n",
              "    (5): Sequential(\n",
              "      (0): MBConv(\n",
              "        (block): Sequential(\n",
              "          (0): Conv2dNormActivation(\n",
              "            (0): Conv2d(88, 528, kernel_size=(1, 1), stride=(1, 1), bias=False)\n",
              "            (1): BatchNorm2d(528, eps=1e-05, momentum=0.1, affine=True, track_running_stats=True)\n",
              "            (2): SiLU(inplace=True)\n",
              "          )\n",
              "          (1): Conv2dNormActivation(\n",
              "            (0): Conv2d(528, 528, kernel_size=(5, 5), stride=(1, 1), padding=(2, 2), groups=528, bias=False)\n",
              "            (1): BatchNorm2d(528, eps=1e-05, momentum=0.1, affine=True, track_running_stats=True)\n",
              "            (2): SiLU(inplace=True)\n",
              "          )\n",
              "          (2): SqueezeExcitation(\n",
              "            (avgpool): AdaptiveAvgPool2d(output_size=1)\n",
              "            (fc1): Conv2d(528, 22, kernel_size=(1, 1), stride=(1, 1))\n",
              "            (fc2): Conv2d(22, 528, kernel_size=(1, 1), stride=(1, 1))\n",
              "            (activation): SiLU(inplace=True)\n",
              "            (scale_activation): Sigmoid()\n",
              "          )\n",
              "          (3): Conv2dNormActivation(\n",
              "            (0): Conv2d(528, 120, kernel_size=(1, 1), stride=(1, 1), bias=False)\n",
              "            (1): BatchNorm2d(120, eps=1e-05, momentum=0.1, affine=True, track_running_stats=True)\n",
              "          )\n",
              "        )\n",
              "        (stochastic_depth): StochasticDepth(p=0.10434782608695654, mode=row)\n",
              "      )\n",
              "      (1): MBConv(\n",
              "        (block): Sequential(\n",
              "          (0): Conv2dNormActivation(\n",
              "            (0): Conv2d(120, 720, kernel_size=(1, 1), stride=(1, 1), bias=False)\n",
              "            (1): BatchNorm2d(720, eps=1e-05, momentum=0.1, affine=True, track_running_stats=True)\n",
              "            (2): SiLU(inplace=True)\n",
              "          )\n",
              "          (1): Conv2dNormActivation(\n",
              "            (0): Conv2d(720, 720, kernel_size=(5, 5), stride=(1, 1), padding=(2, 2), groups=720, bias=False)\n",
              "            (1): BatchNorm2d(720, eps=1e-05, momentum=0.1, affine=True, track_running_stats=True)\n",
              "            (2): SiLU(inplace=True)\n",
              "          )\n",
              "          (2): SqueezeExcitation(\n",
              "            (avgpool): AdaptiveAvgPool2d(output_size=1)\n",
              "            (fc1): Conv2d(720, 30, kernel_size=(1, 1), stride=(1, 1))\n",
              "            (fc2): Conv2d(30, 720, kernel_size=(1, 1), stride=(1, 1))\n",
              "            (activation): SiLU(inplace=True)\n",
              "            (scale_activation): Sigmoid()\n",
              "          )\n",
              "          (3): Conv2dNormActivation(\n",
              "            (0): Conv2d(720, 120, kernel_size=(1, 1), stride=(1, 1), bias=False)\n",
              "            (1): BatchNorm2d(120, eps=1e-05, momentum=0.1, affine=True, track_running_stats=True)\n",
              "          )\n",
              "        )\n",
              "        (stochastic_depth): StochasticDepth(p=0.11304347826086956, mode=row)\n",
              "      )\n",
              "      (2): MBConv(\n",
              "        (block): Sequential(\n",
              "          (0): Conv2dNormActivation(\n",
              "            (0): Conv2d(120, 720, kernel_size=(1, 1), stride=(1, 1), bias=False)\n",
              "            (1): BatchNorm2d(720, eps=1e-05, momentum=0.1, affine=True, track_running_stats=True)\n",
              "            (2): SiLU(inplace=True)\n",
              "          )\n",
              "          (1): Conv2dNormActivation(\n",
              "            (0): Conv2d(720, 720, kernel_size=(5, 5), stride=(1, 1), padding=(2, 2), groups=720, bias=False)\n",
              "            (1): BatchNorm2d(720, eps=1e-05, momentum=0.1, affine=True, track_running_stats=True)\n",
              "            (2): SiLU(inplace=True)\n",
              "          )\n",
              "          (2): SqueezeExcitation(\n",
              "            (avgpool): AdaptiveAvgPool2d(output_size=1)\n",
              "            (fc1): Conv2d(720, 30, kernel_size=(1, 1), stride=(1, 1))\n",
              "            (fc2): Conv2d(30, 720, kernel_size=(1, 1), stride=(1, 1))\n",
              "            (activation): SiLU(inplace=True)\n",
              "            (scale_activation): Sigmoid()\n",
              "          )\n",
              "          (3): Conv2dNormActivation(\n",
              "            (0): Conv2d(720, 120, kernel_size=(1, 1), stride=(1, 1), bias=False)\n",
              "            (1): BatchNorm2d(120, eps=1e-05, momentum=0.1, affine=True, track_running_stats=True)\n",
              "          )\n",
              "        )\n",
              "        (stochastic_depth): StochasticDepth(p=0.12173913043478261, mode=row)\n",
              "      )\n",
              "      (3): MBConv(\n",
              "        (block): Sequential(\n",
              "          (0): Conv2dNormActivation(\n",
              "            (0): Conv2d(120, 720, kernel_size=(1, 1), stride=(1, 1), bias=False)\n",
              "            (1): BatchNorm2d(720, eps=1e-05, momentum=0.1, affine=True, track_running_stats=True)\n",
              "            (2): SiLU(inplace=True)\n",
              "          )\n",
              "          (1): Conv2dNormActivation(\n",
              "            (0): Conv2d(720, 720, kernel_size=(5, 5), stride=(1, 1), padding=(2, 2), groups=720, bias=False)\n",
              "            (1): BatchNorm2d(720, eps=1e-05, momentum=0.1, affine=True, track_running_stats=True)\n",
              "            (2): SiLU(inplace=True)\n",
              "          )\n",
              "          (2): SqueezeExcitation(\n",
              "            (avgpool): AdaptiveAvgPool2d(output_size=1)\n",
              "            (fc1): Conv2d(720, 30, kernel_size=(1, 1), stride=(1, 1))\n",
              "            (fc2): Conv2d(30, 720, kernel_size=(1, 1), stride=(1, 1))\n",
              "            (activation): SiLU(inplace=True)\n",
              "            (scale_activation): Sigmoid()\n",
              "          )\n",
              "          (3): Conv2dNormActivation(\n",
              "            (0): Conv2d(720, 120, kernel_size=(1, 1), stride=(1, 1), bias=False)\n",
              "            (1): BatchNorm2d(120, eps=1e-05, momentum=0.1, affine=True, track_running_stats=True)\n",
              "          )\n",
              "        )\n",
              "        (stochastic_depth): StochasticDepth(p=0.13043478260869565, mode=row)\n",
              "      )\n",
              "    )\n",
              "    (6): Sequential(\n",
              "      (0): MBConv(\n",
              "        (block): Sequential(\n",
              "          (0): Conv2dNormActivation(\n",
              "            (0): Conv2d(120, 720, kernel_size=(1, 1), stride=(1, 1), bias=False)\n",
              "            (1): BatchNorm2d(720, eps=1e-05, momentum=0.1, affine=True, track_running_stats=True)\n",
              "            (2): SiLU(inplace=True)\n",
              "          )\n",
              "          (1): Conv2dNormActivation(\n",
              "            (0): Conv2d(720, 720, kernel_size=(5, 5), stride=(2, 2), padding=(2, 2), groups=720, bias=False)\n",
              "            (1): BatchNorm2d(720, eps=1e-05, momentum=0.1, affine=True, track_running_stats=True)\n",
              "            (2): SiLU(inplace=True)\n",
              "          )\n",
              "          (2): SqueezeExcitation(\n",
              "            (avgpool): AdaptiveAvgPool2d(output_size=1)\n",
              "            (fc1): Conv2d(720, 30, kernel_size=(1, 1), stride=(1, 1))\n",
              "            (fc2): Conv2d(30, 720, kernel_size=(1, 1), stride=(1, 1))\n",
              "            (activation): SiLU(inplace=True)\n",
              "            (scale_activation): Sigmoid()\n",
              "          )\n",
              "          (3): Conv2dNormActivation(\n",
              "            (0): Conv2d(720, 208, kernel_size=(1, 1), stride=(1, 1), bias=False)\n",
              "            (1): BatchNorm2d(208, eps=1e-05, momentum=0.1, affine=True, track_running_stats=True)\n",
              "          )\n",
              "        )\n",
              "        (stochastic_depth): StochasticDepth(p=0.1391304347826087, mode=row)\n",
              "      )\n",
              "      (1): MBConv(\n",
              "        (block): Sequential(\n",
              "          (0): Conv2dNormActivation(\n",
              "            (0): Conv2d(208, 1248, kernel_size=(1, 1), stride=(1, 1), bias=False)\n",
              "            (1): BatchNorm2d(1248, eps=1e-05, momentum=0.1, affine=True, track_running_stats=True)\n",
              "            (2): SiLU(inplace=True)\n",
              "          )\n",
              "          (1): Conv2dNormActivation(\n",
              "            (0): Conv2d(1248, 1248, kernel_size=(5, 5), stride=(1, 1), padding=(2, 2), groups=1248, bias=False)\n",
              "            (1): BatchNorm2d(1248, eps=1e-05, momentum=0.1, affine=True, track_running_stats=True)\n",
              "            (2): SiLU(inplace=True)\n",
              "          )\n",
              "          (2): SqueezeExcitation(\n",
              "            (avgpool): AdaptiveAvgPool2d(output_size=1)\n",
              "            (fc1): Conv2d(1248, 52, kernel_size=(1, 1), stride=(1, 1))\n",
              "            (fc2): Conv2d(52, 1248, kernel_size=(1, 1), stride=(1, 1))\n",
              "            (activation): SiLU(inplace=True)\n",
              "            (scale_activation): Sigmoid()\n",
              "          )\n",
              "          (3): Conv2dNormActivation(\n",
              "            (0): Conv2d(1248, 208, kernel_size=(1, 1), stride=(1, 1), bias=False)\n",
              "            (1): BatchNorm2d(208, eps=1e-05, momentum=0.1, affine=True, track_running_stats=True)\n",
              "          )\n",
              "        )\n",
              "        (stochastic_depth): StochasticDepth(p=0.14782608695652175, mode=row)\n",
              "      )\n",
              "      (2): MBConv(\n",
              "        (block): Sequential(\n",
              "          (0): Conv2dNormActivation(\n",
              "            (0): Conv2d(208, 1248, kernel_size=(1, 1), stride=(1, 1), bias=False)\n",
              "            (1): BatchNorm2d(1248, eps=1e-05, momentum=0.1, affine=True, track_running_stats=True)\n",
              "            (2): SiLU(inplace=True)\n",
              "          )\n",
              "          (1): Conv2dNormActivation(\n",
              "            (0): Conv2d(1248, 1248, kernel_size=(5, 5), stride=(1, 1), padding=(2, 2), groups=1248, bias=False)\n",
              "            (1): BatchNorm2d(1248, eps=1e-05, momentum=0.1, affine=True, track_running_stats=True)\n",
              "            (2): SiLU(inplace=True)\n",
              "          )\n",
              "          (2): SqueezeExcitation(\n",
              "            (avgpool): AdaptiveAvgPool2d(output_size=1)\n",
              "            (fc1): Conv2d(1248, 52, kernel_size=(1, 1), stride=(1, 1))\n",
              "            (fc2): Conv2d(52, 1248, kernel_size=(1, 1), stride=(1, 1))\n",
              "            (activation): SiLU(inplace=True)\n",
              "            (scale_activation): Sigmoid()\n",
              "          )\n",
              "          (3): Conv2dNormActivation(\n",
              "            (0): Conv2d(1248, 208, kernel_size=(1, 1), stride=(1, 1), bias=False)\n",
              "            (1): BatchNorm2d(208, eps=1e-05, momentum=0.1, affine=True, track_running_stats=True)\n",
              "          )\n",
              "        )\n",
              "        (stochastic_depth): StochasticDepth(p=0.1565217391304348, mode=row)\n",
              "      )\n",
              "      (3): MBConv(\n",
              "        (block): Sequential(\n",
              "          (0): Conv2dNormActivation(\n",
              "            (0): Conv2d(208, 1248, kernel_size=(1, 1), stride=(1, 1), bias=False)\n",
              "            (1): BatchNorm2d(1248, eps=1e-05, momentum=0.1, affine=True, track_running_stats=True)\n",
              "            (2): SiLU(inplace=True)\n",
              "          )\n",
              "          (1): Conv2dNormActivation(\n",
              "            (0): Conv2d(1248, 1248, kernel_size=(5, 5), stride=(1, 1), padding=(2, 2), groups=1248, bias=False)\n",
              "            (1): BatchNorm2d(1248, eps=1e-05, momentum=0.1, affine=True, track_running_stats=True)\n",
              "            (2): SiLU(inplace=True)\n",
              "          )\n",
              "          (2): SqueezeExcitation(\n",
              "            (avgpool): AdaptiveAvgPool2d(output_size=1)\n",
              "            (fc1): Conv2d(1248, 52, kernel_size=(1, 1), stride=(1, 1))\n",
              "            (fc2): Conv2d(52, 1248, kernel_size=(1, 1), stride=(1, 1))\n",
              "            (activation): SiLU(inplace=True)\n",
              "            (scale_activation): Sigmoid()\n",
              "          )\n",
              "          (3): Conv2dNormActivation(\n",
              "            (0): Conv2d(1248, 208, kernel_size=(1, 1), stride=(1, 1), bias=False)\n",
              "            (1): BatchNorm2d(208, eps=1e-05, momentum=0.1, affine=True, track_running_stats=True)\n",
              "          )\n",
              "        )\n",
              "        (stochastic_depth): StochasticDepth(p=0.16521739130434784, mode=row)\n",
              "      )\n",
              "      (4): MBConv(\n",
              "        (block): Sequential(\n",
              "          (0): Conv2dNormActivation(\n",
              "            (0): Conv2d(208, 1248, kernel_size=(1, 1), stride=(1, 1), bias=False)\n",
              "            (1): BatchNorm2d(1248, eps=1e-05, momentum=0.1, affine=True, track_running_stats=True)\n",
              "            (2): SiLU(inplace=True)\n",
              "          )\n",
              "          (1): Conv2dNormActivation(\n",
              "            (0): Conv2d(1248, 1248, kernel_size=(5, 5), stride=(1, 1), padding=(2, 2), groups=1248, bias=False)\n",
              "            (1): BatchNorm2d(1248, eps=1e-05, momentum=0.1, affine=True, track_running_stats=True)\n",
              "            (2): SiLU(inplace=True)\n",
              "          )\n",
              "          (2): SqueezeExcitation(\n",
              "            (avgpool): AdaptiveAvgPool2d(output_size=1)\n",
              "            (fc1): Conv2d(1248, 52, kernel_size=(1, 1), stride=(1, 1))\n",
              "            (fc2): Conv2d(52, 1248, kernel_size=(1, 1), stride=(1, 1))\n",
              "            (activation): SiLU(inplace=True)\n",
              "            (scale_activation): Sigmoid()\n",
              "          )\n",
              "          (3): Conv2dNormActivation(\n",
              "            (0): Conv2d(1248, 208, kernel_size=(1, 1), stride=(1, 1), bias=False)\n",
              "            (1): BatchNorm2d(208, eps=1e-05, momentum=0.1, affine=True, track_running_stats=True)\n",
              "          )\n",
              "        )\n",
              "        (stochastic_depth): StochasticDepth(p=0.17391304347826086, mode=row)\n",
              "      )\n",
              "    )\n",
              "    (7): Sequential(\n",
              "      (0): MBConv(\n",
              "        (block): Sequential(\n",
              "          (0): Conv2dNormActivation(\n",
              "            (0): Conv2d(208, 1248, kernel_size=(1, 1), stride=(1, 1), bias=False)\n",
              "            (1): BatchNorm2d(1248, eps=1e-05, momentum=0.1, affine=True, track_running_stats=True)\n",
              "            (2): SiLU(inplace=True)\n",
              "          )\n",
              "          (1): Conv2dNormActivation(\n",
              "            (0): Conv2d(1248, 1248, kernel_size=(3, 3), stride=(1, 1), padding=(1, 1), groups=1248, bias=False)\n",
              "            (1): BatchNorm2d(1248, eps=1e-05, momentum=0.1, affine=True, track_running_stats=True)\n",
              "            (2): SiLU(inplace=True)\n",
              "          )\n",
              "          (2): SqueezeExcitation(\n",
              "            (avgpool): AdaptiveAvgPool2d(output_size=1)\n",
              "            (fc1): Conv2d(1248, 52, kernel_size=(1, 1), stride=(1, 1))\n",
              "            (fc2): Conv2d(52, 1248, kernel_size=(1, 1), stride=(1, 1))\n",
              "            (activation): SiLU(inplace=True)\n",
              "            (scale_activation): Sigmoid()\n",
              "          )\n",
              "          (3): Conv2dNormActivation(\n",
              "            (0): Conv2d(1248, 352, kernel_size=(1, 1), stride=(1, 1), bias=False)\n",
              "            (1): BatchNorm2d(352, eps=1e-05, momentum=0.1, affine=True, track_running_stats=True)\n",
              "          )\n",
              "        )\n",
              "        (stochastic_depth): StochasticDepth(p=0.1826086956521739, mode=row)\n",
              "      )\n",
              "      (1): MBConv(\n",
              "        (block): Sequential(\n",
              "          (0): Conv2dNormActivation(\n",
              "            (0): Conv2d(352, 2112, kernel_size=(1, 1), stride=(1, 1), bias=False)\n",
              "            (1): BatchNorm2d(2112, eps=1e-05, momentum=0.1, affine=True, track_running_stats=True)\n",
              "            (2): SiLU(inplace=True)\n",
              "          )\n",
              "          (1): Conv2dNormActivation(\n",
              "            (0): Conv2d(2112, 2112, kernel_size=(3, 3), stride=(1, 1), padding=(1, 1), groups=2112, bias=False)\n",
              "            (1): BatchNorm2d(2112, eps=1e-05, momentum=0.1, affine=True, track_running_stats=True)\n",
              "            (2): SiLU(inplace=True)\n",
              "          )\n",
              "          (2): SqueezeExcitation(\n",
              "            (avgpool): AdaptiveAvgPool2d(output_size=1)\n",
              "            (fc1): Conv2d(2112, 88, kernel_size=(1, 1), stride=(1, 1))\n",
              "            (fc2): Conv2d(88, 2112, kernel_size=(1, 1), stride=(1, 1))\n",
              "            (activation): SiLU(inplace=True)\n",
              "            (scale_activation): Sigmoid()\n",
              "          )\n",
              "          (3): Conv2dNormActivation(\n",
              "            (0): Conv2d(2112, 352, kernel_size=(1, 1), stride=(1, 1), bias=False)\n",
              "            (1): BatchNorm2d(352, eps=1e-05, momentum=0.1, affine=True, track_running_stats=True)\n",
              "          )\n",
              "        )\n",
              "        (stochastic_depth): StochasticDepth(p=0.19130434782608696, mode=row)\n",
              "      )\n",
              "    )\n",
              "    (8): Conv2dNormActivation(\n",
              "      (0): Conv2d(352, 1408, kernel_size=(1, 1), stride=(1, 1), bias=False)\n",
              "      (1): BatchNorm2d(1408, eps=1e-05, momentum=0.1, affine=True, track_running_stats=True)\n",
              "      (2): SiLU(inplace=True)\n",
              "    )\n",
              "  )\n",
              "  (avgpool): AdaptiveAvgPool2d(output_size=1)\n",
              "  (classifier): Sequential(\n",
              "    (0): Dropout(p=0.3, inplace=True)\n",
              "    (1): Linear(in_features=1408, out_features=42, bias=True)\n",
              "  )\n",
              ")"
            ]
          },
          "execution_count": 16,
          "metadata": {},
          "output_type": "execute_result"
        }
      ],
      "source": [
        "model"
      ]
    },
    {
      "cell_type": "code",
      "execution_count": 17,
      "metadata": {
        "id": "zWP-V8NH9uSR"
      },
      "outputs": [],
      "source": [
        "if val_dataset is None:\n",
        "    val_dataset = SimpsonsDataset(val_files, mode='val')\n",
        "    \n",
        "train_dataset = SimpsonsDataset(train_files, mode='train')"
      ]
    },
    {
      "cell_type": "code",
      "execution_count": 18,
      "metadata": {
        "colab": {
          "base_uri": "https://localhost:8080/"
        },
        "id": "66cFhqN2QaKF",
        "outputId": "cbfb5f38-6213-40fa-ef7f-a7a35602d425"
      },
      "outputs": [
        {
          "name": "stdout",
          "output_type": "stream",
          "text": [
            "Sat Jan 21 10:16:10 2023       \n",
            "+-----------------------------------------------------------------------------+\n",
            "| NVIDIA-SMI 460.32.03    Driver Version: 460.32.03    CUDA Version: 11.2     |\n",
            "|-------------------------------+----------------------+----------------------+\n",
            "| GPU  Name        Persistence-M| Bus-Id        Disp.A | Volatile Uncorr. ECC |\n",
            "| Fan  Temp  Perf  Pwr:Usage/Cap|         Memory-Usage | GPU-Util  Compute M. |\n",
            "|                               |                      |               MIG M. |\n",
            "|===============================+======================+======================|\n",
            "|   0  Tesla T4            Off  | 00000000:00:04.0 Off |                    0 |\n",
            "| N/A   36C    P0    26W /  70W |    614MiB / 15109MiB |      0%      Default |\n",
            "|                               |                      |                  N/A |\n",
            "+-------------------------------+----------------------+----------------------+\n",
            "                                                                               \n",
            "+-----------------------------------------------------------------------------+\n",
            "| Processes:                                                                  |\n",
            "|  GPU   GI   CI        PID   Type   Process name                  GPU Memory |\n",
            "|        ID   ID                                                   Usage      |\n",
            "|=============================================================================|\n",
            "+-----------------------------------------------------------------------------+\n"
          ]
        }
      ],
      "source": [
        "!nvidia-smi"
      ]
    },
    {
      "cell_type": "code",
      "execution_count": 19,
      "metadata": {
        "id": "CDKn7kHvVl6-"
      },
      "outputs": [],
      "source": [
        "i = 0\n",
        "len_params = len(list(model.parameters()))\n",
        "for param in model.parameters():\n",
        "  if len_params - i < 10:\n",
        "    break\n",
        "  param.requires_grad = False\n",
        "  i += 1"
      ]
    },
    {
      "cell_type": "code",
      "execution_count": 20,
      "metadata": {
        "colab": {
          "base_uri": "https://localhost:8080/"
        },
        "id": "Nf_kG_2b9uSR",
        "outputId": "c27ec090-f296-48b1-cf78-0ce7b1223b9e"
      },
      "outputs": [
        {
          "name": "stderr",
          "output_type": "stream",
          "text": [
            "\repoch:   0%|          | 0/10 [00:00<?, ?it/s]"
          ]
        },
        {
          "name": "stdout",
          "output_type": "stream",
          "text": [
            "loss 1.4265538423757993\n"
          ]
        },
        {
          "name": "stderr",
          "output_type": "stream",
          "text": [
            "epoch:  10%|█         | 1/10 [03:27<31:07, 207.46s/it]"
          ]
        },
        {
          "name": "stdout",
          "output_type": "stream",
          "text": [
            "\n",
            "Epoch 001 train_loss: 1.4266     val_loss 0.7950 train_acc 0.6461 val_acc 0.7986\n",
            "loss 0.5777938398417185\n"
          ]
        },
        {
          "name": "stderr",
          "output_type": "stream",
          "text": [
            "epoch:  20%|██        | 2/10 [06:47<27:05, 203.22s/it]"
          ]
        },
        {
          "name": "stdout",
          "output_type": "stream",
          "text": [
            "\n",
            "Epoch 002 train_loss: 0.5778     val_loss 0.6050 train_acc 0.8425 val_acc 0.8376\n",
            "loss 0.38418678548565505\n"
          ]
        },
        {
          "name": "stderr",
          "output_type": "stream",
          "text": [
            "epoch:  30%|███       | 3/10 [10:07<23:30, 201.54s/it]"
          ]
        },
        {
          "name": "stdout",
          "output_type": "stream",
          "text": [
            "\n",
            "Epoch 003 train_loss: 0.3842     val_loss 0.5445 train_acc 0.8926 val_acc 0.8483\n",
            "loss 0.29500132260014883\n"
          ]
        },
        {
          "name": "stderr",
          "output_type": "stream",
          "text": [
            "epoch:  40%|████      | 4/10 [13:27<20:06, 201.02s/it]"
          ]
        },
        {
          "name": "stdout",
          "output_type": "stream",
          "text": [
            "\n",
            "Epoch 004 train_loss: 0.2950     val_loss 0.5398 train_acc 0.9172 val_acc 0.8580\n",
            "loss 0.21779536127975788\n"
          ]
        },
        {
          "name": "stderr",
          "output_type": "stream",
          "text": [
            "epoch:  50%|█████     | 5/10 [16:45<16:39, 199.90s/it]"
          ]
        },
        {
          "name": "stdout",
          "output_type": "stream",
          "text": [
            "\n",
            "Epoch 005 train_loss: 0.2178     val_loss 0.5143 train_acc 0.9367 val_acc 0.8645\n",
            "loss 0.17847962328655506\n"
          ]
        },
        {
          "name": "stderr",
          "output_type": "stream",
          "text": [
            "epoch:  60%|██████    | 6/10 [20:05<13:19, 199.83s/it]"
          ]
        },
        {
          "name": "stdout",
          "output_type": "stream",
          "text": [
            "\n",
            "Epoch 006 train_loss: 0.1785     val_loss 0.5061 train_acc 0.9500 val_acc 0.8674\n",
            "loss 0.15055548799243715\n"
          ]
        },
        {
          "name": "stderr",
          "output_type": "stream",
          "text": [
            "epoch:  70%|███████   | 7/10 [23:22<09:57, 199.10s/it]"
          ]
        },
        {
          "name": "stdout",
          "output_type": "stream",
          "text": [
            "\n",
            "Epoch 007 train_loss: 0.1506     val_loss 0.5273 train_acc 0.9571 val_acc 0.8651\n",
            "loss 0.12296198381685161\n"
          ]
        },
        {
          "name": "stderr",
          "output_type": "stream",
          "text": [
            "epoch:  80%|████████  | 8/10 [26:40<06:37, 198.69s/it]"
          ]
        },
        {
          "name": "stdout",
          "output_type": "stream",
          "text": [
            "\n",
            "Epoch 008 train_loss: 0.1230     val_loss 0.4986 train_acc 0.9648 val_acc 0.8708\n",
            "loss 0.1060861655619465\n"
          ]
        },
        {
          "name": "stderr",
          "output_type": "stream",
          "text": [
            "epoch:  90%|█████████ | 9/10 [29:56<03:17, 197.85s/it]"
          ]
        },
        {
          "name": "stdout",
          "output_type": "stream",
          "text": [
            "\n",
            "Epoch 009 train_loss: 0.1061     val_loss 0.4904 train_acc 0.9687 val_acc 0.8764\n",
            "loss 0.09457574633504032\n"
          ]
        },
        {
          "name": "stderr",
          "output_type": "stream",
          "text": [
            "epoch: 100%|██████████| 10/10 [33:18<00:00, 199.81s/it]"
          ]
        },
        {
          "name": "stdout",
          "output_type": "stream",
          "text": [
            "\n",
            "Epoch 010 train_loss: 0.0946     val_loss 0.5323 train_acc 0.9731 val_acc 0.8680\n"
          ]
        },
        {
          "name": "stderr",
          "output_type": "stream",
          "text": [
            "\n"
          ]
        }
      ],
      "source": [
        "history = train(train_dataset, val_dataset, model=model, epochs=10, batch_size=64)"
      ]
    },
    {
      "cell_type": "markdown",
      "metadata": {
        "id": "5k9BzyHG9uSS"
      },
      "source": [
        "## Test"
      ]
    },
    {
      "cell_type": "code",
      "execution_count": 21,
      "metadata": {
        "id": "GYaqfkNt9uSS"
      },
      "outputs": [],
      "source": [
        "loss, acc, val_loss, val_acc = zip(*history)"
      ]
    },
    {
      "cell_type": "code",
      "execution_count": 22,
      "metadata": {
        "colab": {
          "base_uri": "https://localhost:8080/",
          "height": 551
        },
        "id": "JMclidOC9uSS",
        "outputId": "9fbed09f-f239-45c6-f32f-f46646915218"
      },
      "outputs": [
        {
          "data": {
            "image/png": "[encoded data removed]",
            "text/plain": [
              "<Figure size 1080x648 with 1 Axes>"
            ]
          },
          "metadata": {
            "needs_background": "light"
          },
          "output_type": "display_data"
        }
      ],
      "source": [
        "plt.figure(figsize=(15, 9))\n",
        "plt.plot(loss, label=\"train_loss\")\n",
        "plt.plot(val_loss, label=\"val_loss\")\n",
        "plt.legend(loc='best')\n",
        "plt.xlabel(\"epochs\")\n",
        "plt.ylabel(\"loss\")\n",
        "plt.show()"
      ]
    },
    {
      "cell_type": "code",
      "execution_count": 23,
      "metadata": {
        "id": "Z8PlF6o0N9O1"
      },
      "outputs": [],
      "source": [
        "def predict_one_sample(model, inputs, device=DEVICE):\n",
        "    \"\"\"Предсказание, для одной картинки\"\"\"\n",
        "    with torch.no_grad():\n",
        "        inputs = inputs.to(device)\n",
        "        model.eval()\n",
        "        logit = model(inputs).cpu()\n",
        "        probs = torch.nn.functional.softmax(logit, dim=-1).numpy()\n",
        "    return probs"
      ]
    },
    {
      "cell_type": "code",
      "execution_count": 24,
      "metadata": {
        "id": "pY_OoLoVO_9V"
      },
      "outputs": [],
      "source": [
        "random_characters = int(np.random.uniform(0,1000))\n",
        "ex_img, true_label = val_dataset[random_characters]\n",
        "probs_im = predict_one_sample(model, ex_img.unsqueeze(0))"
      ]
    },
    {
      "cell_type": "code",
      "execution_count": 25,
      "metadata": {
        "id": "caivVFeAN9SY"
      },
      "outputs": [],
      "source": [
        "idxs = list(map(int, np.random.uniform(0,1000, 500)))\n",
        "imgs = [val_dataset[id][0].unsqueeze(0) for id in idxs]\n",
        "\n",
        "probs_ims = predict(model, imgs)"
      ]
    },
    {
      "cell_type": "code",
      "execution_count": 26,
      "metadata": {
        "id": "t-0pRdHnQQKM"
      },
      "outputs": [],
      "source": [
        "label_encoder = pickle.load(open(\"label_encoder.pkl\", 'rb'))"
      ]
    },
    {
      "cell_type": "code",
      "execution_count": 27,
      "metadata": {
        "id": "GNMFc7sfQh1a"
      },
      "outputs": [],
      "source": [
        "y_pred = np.argmax(probs_ims,-1)\n",
        "\n",
        "actual_labels = [val_dataset[id][1] for id in idxs]\n",
        "\n",
        "preds_class = [label_encoder.classes_[i] for i in y_pred]"
      ]
    },
    {
      "cell_type": "code",
      "execution_count": 28,
      "metadata": {
        "id": "_h-9dDWsKGU-"
      },
      "outputs": [],
      "source": [
        "from sklearn.metrics import f1_score"
      ]
    },
    {
      "cell_type": "code",
      "execution_count": 29,
      "metadata": {
        "id": "NQgLABLLcBmu"
      },
      "outputs": [],
      "source": [
        "test_dataset = SimpsonsDataset(test_files, mode=\"test\")\n",
        "test_loader = DataLoader(test_dataset, shuffle=False, batch_size=64)\n",
        "probs = predict(model, test_loader)\n",
        "\n",
        "\n",
        "preds = label_encoder.inverse_transform(np.argmax(probs, axis=1))\n",
        "test_filenames = [path.name for path in test_dataset.files]\n"
      ]
    },
    {
      "cell_type": "code",
      "execution_count": 30,
      "metadata": {
        "colab": {
          "base_uri": "https://localhost:8080/",
          "height": 206
        },
        "id": "Uad9AprnN3Qu",
        "outputId": "b3a9c4c1-91e0-45d8-c352-cc5f05ce9031"
      },
      "outputs": [
        {
          "data": {
            "text/html": [
              "\n",
              "  <div id=\"df-25530ebd-03ec-428d-bae3-3082a47e32aa\">\n",
              "    <div class=\"colab-df-container\">\n",
              "      <div>\n",
              "<style scoped>\n",
              "    .dataframe tbody tr th:only-of-type {\n",
              "        vertical-align: middle;\n",
              "    }\n",
              "\n",
              "    .dataframe tbody tr th {\n",
              "        vertical-align: top;\n",
              "    }\n",
              "\n",
              "    .dataframe thead th {\n",
              "        text-align: right;\n",
              "    }\n",
              "</style>\n",
              "<table border=\"1\" class=\"dataframe\">\n",
              "  <thead>\n",
              "    <tr style=\"text-align: right;\">\n",
              "      <th></th>\n",
              "      <th>Id</th>\n",
              "      <th>Expected</th>\n",
              "    </tr>\n",
              "  </thead>\n",
              "  <tbody>\n",
              "    <tr>\n",
              "      <th>0</th>\n",
              "      <td>img0.jpg</td>\n",
              "      <td>nelson_muntz</td>\n",
              "    </tr>\n",
              "    <tr>\n",
              "      <th>1</th>\n",
              "      <td>img1.jpg</td>\n",
              "      <td>bart_simpson</td>\n",
              "    </tr>\n",
              "    <tr>\n",
              "      <th>2</th>\n",
              "      <td>img10.jpg</td>\n",
              "      <td>ned_flanders</td>\n",
              "    </tr>\n",
              "    <tr>\n",
              "      <th>3</th>\n",
              "      <td>img100.jpg</td>\n",
              "      <td>chief_wiggum</td>\n",
              "    </tr>\n",
              "    <tr>\n",
              "      <th>4</th>\n",
              "      <td>img101.jpg</td>\n",
              "      <td>apu_nahasapeemapetilon</td>\n",
              "    </tr>\n",
              "  </tbody>\n",
              "</table>\n",
              "</div>\n",
              "      <button class=\"colab-df-convert\" onclick=\"convertToInteractive('df-25530ebd-03ec-428d-bae3-3082a47e32aa')\"\n",
              "              title=\"Convert this dataframe to an interactive table.\"\n",
              "              style=\"display:none;\">\n",
              "        \n",
              "  <svg xmlns=\"http://www.w3.org/2000/svg\" height=\"24px\"viewBox=\"0 0 24 24\"\n",
              "       width=\"24px\">\n",
              "    <path d=\"M0 0h24v24H0V0z\" fill=\"none\"/>\n",
              "    <path d=\"M18.56 5.44l.94 2.06.94-2.06 2.06-.94-2.06-.94-.94-2.06-.94 2.06-2.06.94zm-11 1L8.5 8.5l.94-2.06 2.06-.94-2.06-.94L8.5 2.5l-.94 2.06-2.06.94zm10 10l.94 2.06.94-2.06 2.06-.94-2.06-.94-.94-2.06-.94 2.06-2.06.94z\"/><path d=\"M17.41 7.96l-1.37-1.37c-.4-.4-.92-.59-1.43-.59-.52 0-1.04.2-1.43.59L10.3 9.45l-7.72 7.72c-.78.78-.78 2.05 0 2.83L4 21.41c.39.39.9.59 1.41.59.51 0 1.02-.2 1.41-.59l7.78-7.78 2.81-2.81c.8-.78.8-2.07 0-2.86zM5.41 20L4 18.59l7.72-7.72 1.47 1.35L5.41 20z\"/>\n",
              "  </svg>\n",
              "      </button>\n",
              "      \n",
              "  <style>\n",
              "    .colab-df-container {\n",
              "      display:flex;\n",
              "      flex-wrap:wrap;\n",
              "      gap: 12px;\n",
              "    }\n",
              "\n",
              "    .colab-df-convert {\n",
              "      background-color: #E8F0FE;\n",
              "      border: none;\n",
              "      border-radius: 50%;\n",
              "      cursor: pointer;\n",
              "      display: none;\n",
              "      fill: #1967D2;\n",
              "      height: 32px;\n",
              "      padding: 0 0 0 0;\n",
              "      width: 32px;\n",
              "    }\n",
              "\n",
              "    .colab-df-convert:hover {\n",
              "      background-color: #E2EBFA;\n",
              "      box-shadow: 0px 1px 2px rgba(60, 64, 67, 0.3), 0px 1px 3px 1px rgba(60, 64, 67, 0.15);\n",
              "      fill: #174EA6;\n",
              "    }\n",
              "\n",
              "    [theme=dark] .colab-df-convert {\n",
              "      background-color: #3B4455;\n",
              "      fill: #D2E3FC;\n",
              "    }\n",
              "\n",
              "    [theme=dark] .colab-df-convert:hover {\n",
              "      background-color: #434B5C;\n",
              "      box-shadow: 0px 1px 3px 1px rgba(0, 0, 0, 0.15);\n",
              "      filter: drop-shadow(0px 1px 2px rgba(0, 0, 0, 0.3));\n",
              "      fill: #FFFFFF;\n",
              "    }\n",
              "  </style>\n",
              "\n",
              "      <script>\n",
              "        const buttonEl =\n",
              "          document.querySelector('#df-25530ebd-03ec-428d-bae3-3082a47e32aa button.colab-df-convert');\n",
              "        buttonEl.style.display =\n",
              "          google.colab.kernel.accessAllowed ? 'block' : 'none';\n",
              "\n",
              "        async function convertToInteractive(key) {\n",
              "          const element = document.querySelector('#df-25530ebd-03ec-428d-bae3-3082a47e32aa');\n",
              "          const dataTable =\n",
              "            await google.colab.kernel.invokeFunction('convertToInteractive',\n",
              "                                                     [key], {});\n",
              "          if (!dataTable) return;\n",
              "\n",
              "          const docLinkHtml = 'Like what you see? Visit the ' +\n",
              "            '<a target=\"_blank\" href=https://colab.research.google.com/notebooks/data_table.ipynb>data table notebook</a>'\n",
              "            + ' to learn more about interactive tables.';\n",
              "          element.innerHTML = '';\n",
              "          dataTable['output_type'] = 'display_data';\n",
              "          await google.colab.output.renderOutput(dataTable, element);\n",
              "          const docLink = document.createElement('div');\n",
              "          docLink.innerHTML = docLinkHtml;\n",
              "          element.appendChild(docLink);\n",
              "        }\n",
              "      </script>\n",
              "    </div>\n",
              "  </div>\n",
              "  "
            ],
            "text/plain": [
              "           Id                Expected\n",
              "0    img0.jpg            nelson_muntz\n",
              "1    img1.jpg            bart_simpson\n",
              "2   img10.jpg            ned_flanders\n",
              "3  img100.jpg            chief_wiggum\n",
              "4  img101.jpg  apu_nahasapeemapetilon"
            ]
          },
          "execution_count": 30,
          "metadata": {},
          "output_type": "execute_result"
        }
      ],
      "source": [
        "import pandas as pd\n",
        "# my_submit = pd.read_csv(\"./sample_submission.csv\")\n",
        "my_submit = pd.DataFrame({'Id': test_filenames, 'Expected': preds})\n",
        "my_submit.head()"
      ]
    },
    {
      "cell_type": "markdown",
      "metadata": {
        "id": "sZAkx9AAL__L"
      },
      "source": [
        "![image.png](data:image/png;base64,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)"
      ]
    },
    {
      "cell_type": "code",
      "execution_count": 31,
      "metadata": {
        "id": "--wK3ec-gTrA"
      },
      "outputs": [],
      "source": []
    },
    {
      "cell_type": "code",
      "execution_count": null,
      "metadata": {
        "id": "1OOzkCcig39j"
      },
      "outputs": [],
      "source": []
    }
  ],
  "metadata": {
    "accelerator": "GPU",
    "colab": {
      "provenance": []
    },
    "gpuClass": "standard",
    "kernelspec": {
      "display_name": "Python 3.10.6 64-bit",
      "language": "python",
      "name": "python3"
    },
    "language_info": {
      "codemirror_mode": {
        "name": "ipython",
        "version": 3
      },
      "file_extension": ".py",
      "mimetype": "text/x-python",
      "name": "python",
      "nbconvert_exporter": "python",
      "pygments_lexer": "ipython3",
      "version": "3.10.6"
    },
    "orig_nbformat": 4,
    "vscode": {
      "interpreter": {
        "hash": "916dbcbb3f70747c44a77c7bcd40155683ae19c65e1c03b4aa3499c5328201f1"
      }
    },
    "widgets": {
      "application/vnd.jupyter.widget-state+json": {
        "00e3c85e840f4c1985b5c1d7b84a22d3": {
          "model_module": "@jupyter-widgets/controls",
          "model_module_version": "1.5.0",
          "model_name": "HTMLModel",
          "state": {
            "_dom_classes": [],
            "_model_module": "@jupyter-widgets/controls",
            "_model_module_version": "1.5.0",
            "_model_name": "HTMLModel",
            "_view_count": null,
            "_view_module": "@jupyter-widgets/controls",
            "_view_module_version": "1.5.0",
            "_view_name": "HTMLView",
            "description": "",
            "description_tooltip": null,
            "layout": "IPY_MODEL_34d3a27e62904864b432d65a0fdd817b",
            "placeholder": "​",
            "style": "IPY_MODEL_f71e7a9e4437477e9e38b0e811ba10d3",
            "value": " 35.2M/35.2M [00:00&lt;00:00, 89.4MB/s]"
          }
        },
        "11a391b9bc3f49cfb85286c24b75220f": {
          "model_module": "@jupyter-widgets/controls",
          "model_module_version": "1.5.0",
          "model_name": "ProgressStyleModel",
          "state": {
            "_model_module": "@jupyter-widgets/controls",
            "_model_module_version": "1.5.0",
            "_model_name": "ProgressStyleModel",
            "_view_count": null,
            "_view_module": "@jupyter-widgets/base",
            "_view_module_version": "1.2.0",
            "_view_name": "StyleView",
            "bar_color": null,
            "description_width": ""
          }
        },
        "13cc4d65e7ec4cd7a41df8568fdd9f02": {
          "model_module": "@jupyter-widgets/controls",
          "model_module_version": "1.5.0",
          "model_name": "DescriptionStyleModel",
          "state": {
            "_model_module": "@jupyter-widgets/controls",
            "_model_module_version": "1.5.0",
            "_model_name": "DescriptionStyleModel",
            "_view_count": null,
            "_view_module": "@jupyter-widgets/base",
            "_view_module_version": "1.2.0",
            "_view_name": "StyleView",
            "description_width": ""
          }
        },
        "142dd6704e2e4948a194a37ac47003d5": {
          "model_module": "@jupyter-widgets/controls",
          "model_module_version": "1.5.0",
          "model_name": "HTMLModel",
          "state": {
            "_dom_classes": [],
            "_model_module": "@jupyter-widgets/controls",
            "_model_module_version": "1.5.0",
            "_model_name": "HTMLModel",
            "_view_count": null,
            "_view_module": "@jupyter-widgets/controls",
            "_view_module_version": "1.5.0",
            "_view_name": "HTMLView",
            "description": "",
            "description_tooltip": null,
            "layout": "IPY_MODEL_843a99997e034485a55a92c85eaa4541",
            "placeholder": "​",
            "style": "IPY_MODEL_13cc4d65e7ec4cd7a41df8568fdd9f02",
            "value": "100%"
          }
        },
        "34d3a27e62904864b432d65a0fdd817b": {
          "model_module": "@jupyter-widgets/base",
          "model_module_version": "1.2.0",
          "model_name": "LayoutModel",
          "state": {
            "_model_module": "@jupyter-widgets/base",
            "_model_module_version": "1.2.0",
            "_model_name": "LayoutModel",
            "_view_count": null,
            "_view_module": "@jupyter-widgets/base",
            "_view_module_version": "1.2.0",
            "_view_name": "LayoutView",
            "align_content": null,
            "align_items": null,
            "align_self": null,
            "border": null,
            "bottom": null,
            "display": null,
            "flex": null,
            "flex_flow": null,
            "grid_area": null,
            "grid_auto_columns": null,
            "grid_auto_flow": null,
            "grid_auto_rows": null,
            "grid_column": null,
            "grid_gap": null,
            "grid_row": null,
            "grid_template_areas": null,
            "grid_template_columns": null,
            "grid_template_rows": null,
            "height": null,
            "justify_content": null,
            "justify_items": null,
            "left": null,
            "margin": null,
            "max_height": null,
            "max_width": null,
            "min_height": null,
            "min_width": null,
            "object_fit": null,
            "object_position": null,
            "order": null,
            "overflow": null,
            "overflow_x": null,
            "overflow_y": null,
            "padding": null,
            "right": null,
            "top": null,
            "visibility": null,
            "width": null
          }
        },
        "450e5c6c81b24f75af70dd31e1acd6d7": {
          "model_module": "@jupyter-widgets/controls",
          "model_module_version": "1.5.0",
          "model_name": "FloatProgressModel",
          "state": {
            "_dom_classes": [],
            "_model_module": "@jupyter-widgets/controls",
            "_model_module_version": "1.5.0",
            "_model_name": "FloatProgressModel",
            "_view_count": null,
            "_view_module": "@jupyter-widgets/controls",
            "_view_module_version": "1.5.0",
            "_view_name": "ProgressView",
            "bar_style": "success",
            "description": "",
            "description_tooltip": null,
            "layout": "IPY_MODEL_68b818ef5d384c9e8842b70f4c13bfe0",
            "max": 36882185,
            "min": 0,
            "orientation": "horizontal",
            "style": "IPY_MODEL_11a391b9bc3f49cfb85286c24b75220f",
            "value": 36882185
          }
        },
        "4610e113df1f49b78f503419f4b32d0a": {
          "model_module": "@jupyter-widgets/controls",
          "model_module_version": "1.5.0",
          "model_name": "HBoxModel",
          "state": {
            "_dom_classes": [],
            "_model_module": "@jupyter-widgets/controls",
            "_model_module_version": "1.5.0",
            "_model_name": "HBoxModel",
            "_view_count": null,
            "_view_module": "@jupyter-widgets/controls",
            "_view_module_version": "1.5.0",
            "_view_name": "HBoxView",
            "box_style": "",
            "children": [
              "IPY_MODEL_142dd6704e2e4948a194a37ac47003d5",
              "IPY_MODEL_450e5c6c81b24f75af70dd31e1acd6d7",
              "IPY_MODEL_00e3c85e840f4c1985b5c1d7b84a22d3"
            ],
            "layout": "IPY_MODEL_ac3b567f057f499dab043ef6fdabb71c"
          }
        },
        "68b818ef5d384c9e8842b70f4c13bfe0": {
          "model_module": "@jupyter-widgets/base",
          "model_module_version": "1.2.0",
          "model_name": "LayoutModel",
          "state": {
            "_model_module": "@jupyter-widgets/base",
            "_model_module_version": "1.2.0",
            "_model_name": "LayoutModel",
            "_view_count": null,
            "_view_module": "@jupyter-widgets/base",
            "_view_module_version": "1.2.0",
            "_view_name": "LayoutView",
            "align_content": null,
            "align_items": null,
            "align_self": null,
            "border": null,
            "bottom": null,
            "display": null,
            "flex": null,
            "flex_flow": null,
            "grid_area": null,
            "grid_auto_columns": null,
            "grid_auto_flow": null,
            "grid_auto_rows": null,
            "grid_column": null,
            "grid_gap": null,
            "grid_row": null,
            "grid_template_areas": null,
            "grid_template_columns": null,
            "grid_template_rows": null,
            "height": null,
            "justify_content": null,
            "justify_items": null,
            "left": null,
            "margin": null,
            "max_height": null,
            "max_width": null,
            "min_height": null,
            "min_width": null,
            "object_fit": null,
            "object_position": null,
            "order": null,
            "overflow": null,
            "overflow_x": null,
            "overflow_y": null,
            "padding": null,
            "right": null,
            "top": null,
            "visibility": null,
            "width": null
          }
        },
        "843a99997e034485a55a92c85eaa4541": {
          "model_module": "@jupyter-widgets/base",
          "model_module_version": "1.2.0",
          "model_name": "LayoutModel",
          "state": {
            "_model_module": "@jupyter-widgets/base",
            "_model_module_version": "1.2.0",
            "_model_name": "LayoutModel",
            "_view_count": null,
            "_view_module": "@jupyter-widgets/base",
            "_view_module_version": "1.2.0",
            "_view_name": "LayoutView",
            "align_content": null,
            "align_items": null,
            "align_self": null,
            "border": null,
            "bottom": null,
            "display": null,
            "flex": null,
            "flex_flow": null,
            "grid_area": null,
            "grid_auto_columns": null,
            "grid_auto_flow": null,
            "grid_auto_rows": null,
            "grid_column": null,
            "grid_gap": null,
            "grid_row": null,
            "grid_template_areas": null,
            "grid_template_columns": null,
            "grid_template_rows": null,
            "height": null,
            "justify_content": null,
            "justify_items": null,
            "left": null,
            "margin": null,
            "max_height": null,
            "max_width": null,
            "min_height": null,
            "min_width": null,
            "object_fit": null,
            "object_position": null,
            "order": null,
            "overflow": null,
            "overflow_x": null,
            "overflow_y": null,
            "padding": null,
            "right": null,
            "top": null,
            "visibility": null,
            "width": null
          }
        },
        "ac3b567f057f499dab043ef6fdabb71c": {
          "model_module": "@jupyter-widgets/base",
          "model_module_version": "1.2.0",
          "model_name": "LayoutModel",
          "state": {
            "_model_module": "@jupyter-widgets/base",
            "_model_module_version": "1.2.0",
            "_model_name": "LayoutModel",
            "_view_count": null,
            "_view_module": "@jupyter-widgets/base",
            "_view_module_version": "1.2.0",
            "_view_name": "LayoutView",
            "align_content": null,
            "align_items": null,
            "align_self": null,
            "border": null,
            "bottom": null,
            "display": null,
            "flex": null,
            "flex_flow": null,
            "grid_area": null,
            "grid_auto_columns": null,
            "grid_auto_flow": null,
            "grid_auto_rows": null,
            "grid_column": null,
            "grid_gap": null,
            "grid_row": null,
            "grid_template_areas": null,
            "grid_template_columns": null,
            "grid_template_rows": null,
            "height": null,
            "justify_content": null,
            "justify_items": null,
            "left": null,
            "margin": null,
            "max_height": null,
            "max_width": null,
            "min_height": null,
            "min_width": null,
            "object_fit": null,
            "object_position": null,
            "order": null,
            "overflow": null,
            "overflow_x": null,
            "overflow_y": null,
            "padding": null,
            "right": null,
            "top": null,
            "visibility": null,
            "width": null
          }
        },
        "f71e7a9e4437477e9e38b0e811ba10d3": {
          "model_module": "@jupyter-widgets/controls",
          "model_module_version": "1.5.0",
          "model_name": "DescriptionStyleModel",
          "state": {
            "_model_module": "@jupyter-widgets/controls",
            "_model_module_version": "1.5.0",
            "_model_name": "DescriptionStyleModel",
            "_view_count": null,
            "_view_module": "@jupyter-widgets/base",
            "_view_module_version": "1.2.0",
            "_view_name": "StyleView",
            "description_width": ""
          }
        }
      }
    }
  },
  "nbformat": 4,
  "nbformat_minor": 0
}
